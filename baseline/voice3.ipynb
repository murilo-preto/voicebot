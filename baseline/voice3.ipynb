{
 "cells": [
  {
   "cell_type": "markdown",
   "metadata": {},
   "source": [
    "https://pypi.org/project/SpeechRecognition/2.1.3/\n",
    "\n",
    "https://gtts.readthedocs.io/en/latest/\n",
    "\n",
    "https://www.techwithtim.net/tutorials/voice-assistant/playing-sound/"
   ]
  },
  {
   "cell_type": "code",
   "execution_count": null,
   "metadata": {},
   "outputs": [],
   "source": [
    "#! pip install SpeechRecognition\n",
    "#! pip install gtts\n",
    "#! pip install python-aiml\n",
    "#! pip install pipwin\n",
    "#! pipwin install pyaudio\n",
    "#! pip install playsound\n"
   ]
  },
  {
   "cell_type": "code",
   "execution_count": 1,
   "metadata": {},
   "outputs": [],
   "source": [
    "import speech_recognition as sr\n",
    "import pyaudio\n",
    "from gtts import gTTS\n",
    "import os\n",
    "from playsound import playsound\n",
    "import aiml\n",
    "\n",
    "\n",
    "from timeit import default_timer as timer\n",
    "from datetime import timedelta\n",
    "\n"
   ]
  },
  {
   "cell_type": "markdown",
   "metadata": {},
   "source": [
    "Função para gerar a voz"
   ]
  },
  {
   "cell_type": "code",
   "execution_count": 2,
   "metadata": {},
   "outputs": [],
   "source": [
    "def speak(text):\n",
    "    tts = gTTS(text=text, lang='pt-br')\n",
    "    filename = 'voice.mp3'    \n",
    "    tts.save(filename)\n",
    "    playsound(filename)\n",
    "    os.remove(filename)\n"
   ]
  },
  {
   "cell_type": "markdown",
   "metadata": {},
   "source": [
    "Voicebot"
   ]
  },
  {
   "cell_type": "code",
   "execution_count": 3,
   "metadata": {},
   "outputs": [
    {
     "name": "stdout",
     "output_type": "stream",
     "text": [
      "Loading voicebot2.xml...done (0.02 seconds)\n",
      "Ajustando para o ruído ambiente...\n",
      "Ajuste completo!!\n",
      "ROBOTSTART Roberto\n",
      "0:00:01.340605 Maria Helena: Boa tarde, eu sou a Robô Maria Helena cuidadora digital do Roberto. Você é o Roberto?\n",
      "0:00:12.378723 Ouvindo\n",
      "Sim sou eu\n",
      "0:00:15.508809 Usuário: Sim sou eu\n",
      "0:00:15.509318  Maria Helena: Estou entrando em contato em nome do Grupo de Pesquisa de Voicebot em Saúde. Roberto, o motivo da chamada é um alerta de sensor em perigo por sobrepeso que detectamos. O atendimento levará alguns minutos, tudo bem?\n",
      "0:00:40.542532 Ouvindo\n",
      "tudo bem tudo bem\n",
      "0:00:49.150005 Usuário: tudo bem tudo bem\n",
      "0:00:49.151105  Maria Helena: Desculpe, não entendi.\n",
      "0:00:52.995781 Ouvindo\n",
      "bem\n",
      "0:00:57.197528 Usuário: bem\n",
      "0:00:57.198947  Maria Helena: Desculpe, pode repetir?\n",
      "0:01:01.075932 Ouvindo\n",
      "tudo bem\n",
      "0:01:04.609423 Usuário: tudo bem\n",
      "0:01:04.611004  Maria Helena: Inicialmente vamos verificar seu estado geral. Você tem sentido cansaço?\n",
      "0:01:12.575149 Ouvindo\n",
      "assim um pouco\n",
      "0:01:17.549940 Usuário: assim um pouco\n",
      "0:01:17.551964  Maria Helena: Desculpe não entendi. você tem sentido cansaço?\n",
      "0:01:23.468193 Ouvindo\n",
      "sim\n",
      "0:01:27.069192 Usuário: sim\n",
      "0:01:27.069981  Maria Helena: Certo, o senhor sente dificuldade para comer?\n",
      "0:01:33.251804 Ouvindo\n",
      "assim\n",
      "0:01:36.877803 Usuário: assim\n",
      "0:01:36.878186  Maria Helena: Desculpe não entendi. Dificuldade para comer, você sente?\n",
      "0:01:44.713789 Ouvindo\n",
      "sim\n",
      "0:01:47.812091 Usuário: sim\n",
      "0:01:47.812901  Maria Helena: Certo, e falta de vontade de comer?\n",
      "0:01:53.099476 Ouvindo\n",
      "sim\n",
      "0:01:57.588195 Usuário: sim\n",
      "0:01:57.588670  Maria Helena: Certo, e tem inchaço nas pernas?\n",
      "0:02:02.381456 Ouvindo\n",
      "não\n",
      "0:02:05.608883 Usuário: não\n",
      "0:02:05.609318  Maria Helena: Certo, e falta de ar você tem?\n",
      "0:02:10.203560 Ouvindo\n",
      "não\n",
      "0:02:13.788171 Usuário: não\n",
      "0:02:13.788527  Maria Helena: SYSTEM cansaco=S dificuldadecomer=S faltavontadecomer=S inchacopernas=N faltadear=N\n",
      "0:02:27.197332 Ouvindo\n",
      "0:02:33.875567  Maria Helena: Desculpe, mas não consegui captar o que você disse...\n",
      "0:02:39.744887 Ouvindo\n",
      "0:02:41.395893  Maria Helena: Desculpe, mas não consegui captar o que você disse...\n",
      "0:02:47.317206 Ouvindo\n",
      "0:02:50.068146  Maria Helena: Desculpe, mas não consegui captar o que você disse...\n"
     ]
    },
    {
     "ename": "KeyboardInterrupt",
     "evalue": "",
     "output_type": "error",
     "traceback": [
      "\u001b[1;31m---------------------------------------------------------------------------\u001b[0m",
      "\u001b[1;31mKeyboardInterrupt\u001b[0m                         Traceback (most recent call last)",
      "\u001b[1;32m<ipython-input-3-26480f434592>\u001b[0m in \u001b[0;36m<module>\u001b[1;34m\u001b[0m\n\u001b[0;32m     39\u001b[0m \u001b[1;33m\u001b[0m\u001b[0m\n\u001b[0;32m     40\u001b[0m         \u001b[0mprint\u001b[0m\u001b[1;33m(\u001b[0m\u001b[0mtimedelta\u001b[0m\u001b[1;33m(\u001b[0m\u001b[0mseconds\u001b[0m\u001b[1;33m=\u001b[0m\u001b[0mtimer\u001b[0m\u001b[1;33m(\u001b[0m\u001b[1;33m)\u001b[0m\u001b[1;33m-\u001b[0m\u001b[0mstart\u001b[0m\u001b[1;33m)\u001b[0m\u001b[1;33m,\u001b[0m\u001b[1;34m\" Maria Helena:\"\u001b[0m\u001b[1;33m,\u001b[0m\u001b[0mresponse\u001b[0m\u001b[1;33m)\u001b[0m\u001b[1;33m\u001b[0m\u001b[1;33m\u001b[0m\u001b[0m\n\u001b[1;32m---> 41\u001b[1;33m         \u001b[0mspeak\u001b[0m\u001b[1;33m(\u001b[0m\u001b[0mresponse\u001b[0m\u001b[1;33m)\u001b[0m\u001b[1;33m\u001b[0m\u001b[1;33m\u001b[0m\u001b[0m\n\u001b[0m",
      "\u001b[1;32m<ipython-input-2-2fe66109b876>\u001b[0m in \u001b[0;36mspeak\u001b[1;34m(text)\u001b[0m\n\u001b[0;32m      3\u001b[0m     \u001b[0mfilename\u001b[0m \u001b[1;33m=\u001b[0m \u001b[1;34m'voice.mp3'\u001b[0m\u001b[1;33m\u001b[0m\u001b[1;33m\u001b[0m\u001b[0m\n\u001b[0;32m      4\u001b[0m     \u001b[0mtts\u001b[0m\u001b[1;33m.\u001b[0m\u001b[0msave\u001b[0m\u001b[1;33m(\u001b[0m\u001b[0mfilename\u001b[0m\u001b[1;33m)\u001b[0m\u001b[1;33m\u001b[0m\u001b[1;33m\u001b[0m\u001b[0m\n\u001b[1;32m----> 5\u001b[1;33m     \u001b[0mplaysound\u001b[0m\u001b[1;33m(\u001b[0m\u001b[0mfilename\u001b[0m\u001b[1;33m)\u001b[0m\u001b[1;33m\u001b[0m\u001b[1;33m\u001b[0m\u001b[0m\n\u001b[0m\u001b[0;32m      6\u001b[0m     \u001b[0mos\u001b[0m\u001b[1;33m.\u001b[0m\u001b[0mremove\u001b[0m\u001b[1;33m(\u001b[0m\u001b[0mfilename\u001b[0m\u001b[1;33m)\u001b[0m\u001b[1;33m\u001b[0m\u001b[1;33m\u001b[0m\u001b[0m\n",
      "\u001b[1;32m~\\anaconda3\\lib\\site-packages\\playsound.py\u001b[0m in \u001b[0;36m_playsoundWin\u001b[1;34m(sound, block)\u001b[0m\n\u001b[0;32m     39\u001b[0m \u001b[1;33m\u001b[0m\u001b[0m\n\u001b[0;32m     40\u001b[0m     \u001b[1;32mif\u001b[0m \u001b[0mblock\u001b[0m\u001b[1;33m:\u001b[0m\u001b[1;33m\u001b[0m\u001b[1;33m\u001b[0m\u001b[0m\n\u001b[1;32m---> 41\u001b[1;33m         \u001b[0msleep\u001b[0m\u001b[1;33m(\u001b[0m\u001b[0mfloat\u001b[0m\u001b[1;33m(\u001b[0m\u001b[0mdurationInMS\u001b[0m\u001b[1;33m)\u001b[0m \u001b[1;33m/\u001b[0m \u001b[1;36m1000.0\u001b[0m\u001b[1;33m)\u001b[0m\u001b[1;33m\u001b[0m\u001b[1;33m\u001b[0m\u001b[0m\n\u001b[0m\u001b[0;32m     42\u001b[0m \u001b[1;33m\u001b[0m\u001b[0m\n\u001b[0;32m     43\u001b[0m \u001b[1;32mdef\u001b[0m \u001b[0m_playsoundOSX\u001b[0m\u001b[1;33m(\u001b[0m\u001b[0msound\u001b[0m\u001b[1;33m,\u001b[0m \u001b[0mblock\u001b[0m \u001b[1;33m=\u001b[0m \u001b[1;32mTrue\u001b[0m\u001b[1;33m)\u001b[0m\u001b[1;33m:\u001b[0m\u001b[1;33m\u001b[0m\u001b[1;33m\u001b[0m\u001b[0m\n",
      "\u001b[1;31mKeyboardInterrupt\u001b[0m: "
     ]
    }
   ],
   "source": [
    "ai = aiml.Kernel() # inicialização\n",
    "ai.learn('voicebot2.xml') # lê o arquivo principal da AIML e faz referências aos outros\n",
    "r = sr.Recognizer()\n",
    "\n",
    "\n",
    "start = timer()\n",
    "\n",
    "with sr.Microphone() as source:\n",
    "    print('Ajustando para o ruído ambiente...')\n",
    "    r.adjust_for_ambient_noise(source, duration = 1)\n",
    "    print('Ajuste completo!!')\n",
    "\n",
    "name = \"Roberto\"\n",
    "said=\"ROBOTSTART \"+name\n",
    "print(said)\n",
    "\n",
    "response = ai.respond(said)\n",
    "print(timedelta(seconds=timer()-start),\"Maria Helena:\",response)\n",
    "speak(response)\n",
    "with sr.Microphone() as source:\n",
    "    while said != \"Até logo\":\n",
    "    \n",
    "        try:\n",
    "            print(timedelta(seconds=timer()-start),\"Ouvindo\")\n",
    "            audio = r.listen(source)\n",
    "            #print(timedelta(seconds=timer()-start),\"Limiar:\", r.energy_threshold)\n",
    "            \n",
    "        except:\n",
    "            response = \"Desculpe, mas não consegui captar o que você disse...\"\n",
    "    \n",
    "        try:\n",
    "            said = r.recognize_google(audio,language=\"pt-BR\")\n",
    "            print(said)\n",
    "            print(timedelta(seconds=timer()-start), \"Usuário:\",said)\n",
    "            response = ai.respond(said)     \n",
    "            \n",
    "        except:\n",
    "            response = \"Desculpe, mas não consegui captar o que você disse...\"\n",
    "    \n",
    "        print(timedelta(seconds=timer()-start),\" Maria Helena:\",response)\n",
    "        speak(response)\n"
   ]
  },
  {
   "cell_type": "code",
   "execution_count": null,
   "metadata": {},
   "outputs": [],
   "source": []
  }
 ],
 "metadata": {
  "kernelspec": {
   "display_name": "Python 3",
   "language": "python",
   "name": "python3"
  },
  "language_info": {
   "codemirror_mode": {
    "name": "ipython",
    "version": 3
   },
   "file_extension": ".py",
   "mimetype": "text/x-python",
   "name": "python",
   "nbconvert_exporter": "python",
   "pygments_lexer": "ipython3",
   "version": "3.8.5"
  }
 },
 "nbformat": 4,
 "nbformat_minor": 5
}
